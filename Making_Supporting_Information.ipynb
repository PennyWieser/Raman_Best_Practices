{
 "cells": [
  {
   "cell_type": "code",
   "execution_count": 112,
   "id": "1d0846c9",
   "metadata": {},
   "outputs": [],
   "source": [
    "import numpy as np\n",
    "import pandas as pd\n",
    "import matplotlib.pyplot as plt\n",
    "import DiadFit as pf\n",
    "pf.__version__\n",
    "import os\n",
    "import re"
   ]
  },
  {
   "cell_type": "code",
   "execution_count": 113,
   "id": "d4a04efb",
   "metadata": {},
   "outputs": [],
   "source": [
    "def extract_temperature(filename):\n",
    "    match = re.search(r'(\\d+)C', filename)\n",
    "    if match:\n",
    "        return int(match.group(1))\n",
    "    else:\n",
    "        return None"
   ]
  },
  {
   "cell_type": "markdown",
   "id": "68c6a9ab",
   "metadata": {},
   "source": [
    "## heating and laser power series"
   ]
  },
  {
   "cell_type": "code",
   "execution_count": 114,
   "id": "eaac8ed1",
   "metadata": {},
   "outputs": [
    {
     "name": "stderr",
     "output_type": "stream",
     "text": [
      "C:\\Users\\penny\\AppData\\Local\\Temp\\ipykernel_30032\\899811095.py:18: SettingWithCopyWarning: \n",
      "A value is trying to be set on a copy of a slice from a DataFrame.\n",
      "Try using .loc[row_indexer,col_indexer] = value instead\n",
      "\n",
      "See the caveats in the documentation: https://pandas.pydata.org/pandas-docs/stable/user_guide/indexing.html#returning-a-view-versus-a-copy\n",
      "  df_Fogo_MI_heat['T (C)']=df_Fogo_MI_heat['filename'].apply(extract_temperature)\n",
      "C:\\Users\\penny\\AppData\\Local\\Temp\\ipykernel_30032\\899811095.py:21: SettingWithCopyWarning: \n",
      "A value is trying to be set on a copy of a slice from a DataFrame.\n",
      "Try using .loc[row_indexer,col_indexer] = value instead\n",
      "\n",
      "See the caveats in the documentation: https://pandas.pydata.org/pandas-docs/stable/user_guide/indexing.html#returning-a-view-versus-a-copy\n",
      "  df_Fogo_FI_heat['T (C)']=df_Fogo_FI_heat['filename'].apply(extract_temperature)\n",
      "C:\\Users\\penny\\AppData\\Local\\Temp\\ipykernel_30032\\899811095.py:28: SettingWithCopyWarning: \n",
      "A value is trying to be set on a copy of a slice from a DataFrame.\n",
      "Try using .loc[row_indexer,col_indexer] = value instead\n",
      "\n",
      "See the caveats in the documentation: https://pandas.pydata.org/pandas-docs/stable/user_guide/indexing.html#returning-a-view-versus-a-copy\n",
      "  df_Fogo_MI2_heat['T (C)']=df_Fogo_MI2_heat['filename'].apply(extract_temperature)\n",
      "C:\\Users\\penny\\AppData\\Local\\Temp\\ipykernel_30032\\899811095.py:31: SettingWithCopyWarning: \n",
      "A value is trying to be set on a copy of a slice from a DataFrame.\n",
      "Try using .loc[row_indexer,col_indexer] = value instead\n",
      "\n",
      "See the caveats in the documentation: https://pandas.pydata.org/pandas-docs/stable/user_guide/indexing.html#returning-a-view-versus-a-copy\n",
      "  df_Fogo_FI2_heat['T (C)']=df_Fogo_FI2_heat['filename'].apply(extract_temperature)\n",
      "C:\\Users\\penny\\AppData\\Local\\Temp\\ipykernel_30032\\899811095.py:87: SettingWithCopyWarning: \n",
      "A value is trying to be set on a copy of a slice from a DataFrame.\n",
      "Try using .loc[row_indexer,col_indexer] = value instead\n",
      "\n",
      "See the caveats in the documentation: https://pandas.pydata.org/pandas-docs/stable/user_guide/indexing.html#returning-a-view-versus-a-copy\n",
      "  df_C6_FIM['Series_Name']='df_C6_FIM_power'\n",
      "C:\\Users\\penny\\AppData\\Local\\Temp\\ipykernel_30032\\899811095.py:88: SettingWithCopyWarning: \n",
      "A value is trying to be set on a copy of a slice from a DataFrame.\n",
      "Try using .loc[row_indexer,col_indexer] = value instead\n",
      "\n",
      "See the caveats in the documentation: https://pandas.pydata.org/pandas-docs/stable/user_guide/indexing.html#returning-a-view-versus-a-copy\n",
      "  df_C6_FIN['Series_Name']='df_C6_FIN_power'\n",
      "C:\\Users\\penny\\AppData\\Local\\Temp\\ipykernel_30032\\899811095.py:89: SettingWithCopyWarning: \n",
      "A value is trying to be set on a copy of a slice from a DataFrame.\n",
      "Try using .loc[row_indexer,col_indexer] = value instead\n",
      "\n",
      "See the caveats in the documentation: https://pandas.pydata.org/pandas-docs/stable/user_guide/indexing.html#returning-a-view-versus-a-copy\n",
      "  df_C5_A1_FIP['Series_Name']='df_C5_A1_FIP_power'\n",
      "C:\\Users\\penny\\AppData\\Local\\Temp\\ipykernel_30032\\899811095.py:90: SettingWithCopyWarning: \n",
      "A value is trying to be set on a copy of a slice from a DataFrame.\n",
      "Try using .loc[row_indexer,col_indexer] = value instead\n",
      "\n",
      "See the caveats in the documentation: https://pandas.pydata.org/pandas-docs/stable/user_guide/indexing.html#returning-a-view-versus-a-copy\n",
      "  df_C16_FIR['Series_Name']='df_C16_FIR_power'\n",
      "C:\\Users\\penny\\AppData\\Local\\Temp\\ipykernel_30032\\899811095.py:92: SettingWithCopyWarning: \n",
      "A value is trying to be set on a copy of a slice from a DataFrame.\n",
      "Try using .loc[row_indexer,col_indexer] = value instead\n",
      "\n",
      "See the caveats in the documentation: https://pandas.pydata.org/pandas-docs/stable/user_guide/indexing.html#returning-a-view-versus-a-copy\n",
      "  df_C6_FIM['Fo']=0.865296049\n",
      "C:\\Users\\penny\\AppData\\Local\\Temp\\ipykernel_30032\\899811095.py:93: SettingWithCopyWarning: \n",
      "A value is trying to be set on a copy of a slice from a DataFrame.\n",
      "Try using .loc[row_indexer,col_indexer] = value instead\n",
      "\n",
      "See the caveats in the documentation: https://pandas.pydata.org/pandas-docs/stable/user_guide/indexing.html#returning-a-view-versus-a-copy\n",
      "  df_C6_FIN['Fo']=0.865296049\n",
      "C:\\Users\\penny\\AppData\\Local\\Temp\\ipykernel_30032\\899811095.py:95: SettingWithCopyWarning: \n",
      "A value is trying to be set on a copy of a slice from a DataFrame.\n",
      "Try using .loc[row_indexer,col_indexer] = value instead\n",
      "\n",
      "See the caveats in the documentation: https://pandas.pydata.org/pandas-docs/stable/user_guide/indexing.html#returning-a-view-versus-a-copy\n",
      "  df_C5_A1_FIP['Fo']=0.863398795\n",
      "C:\\Users\\penny\\AppData\\Local\\Temp\\ipykernel_30032\\899811095.py:96: SettingWithCopyWarning: \n",
      "A value is trying to be set on a copy of a slice from a DataFrame.\n",
      "Try using .loc[row_indexer,col_indexer] = value instead\n",
      "\n",
      "See the caveats in the documentation: https://pandas.pydata.org/pandas-docs/stable/user_guide/indexing.html#returning-a-view-versus-a-copy\n",
      "  df_C16_FIR['Fo']=0.863503953\n"
     ]
    }
   ],
   "source": [
    "# samoa one - This is on the linkam, changing temperature\n",
    "df_IS_heat=pd.read_excel(r'C:\\Users\\penny\\Box\\Berkeley_new\\Raman\\Raman technical paper\\Laser_power_Series\\Heating_test_series\\Isabelles_Data\\Raman_session_June 3, 2025_fitted_2025-06-04_Samoa_HeatingTest.xlsx')\n",
    "df_IS_heat['T (C)']=df_IS_heat['filename'].apply(extract_temperature)\n",
    "# This is the samoa and next iceland ones. \n",
    "df_IS_power=pd.read_excel(r'C:\\Users\\penny\\Box\\Berkeley_new\\Raman\\Raman technical paper\\Laser_power_Series\\Heating_test_series\\Isabelles_Data\\Raman_session_June 4, 2025_fitted_2025-06-04.xlsx')\n",
    "\n",
    "df_IS_power_c2=df_IS_power.loc[df_IS_power['filename'].str.contains('11I_c2')]\n",
    "df_IS_heat_c2=df_IS_heat.loc[df_IS_heat['filename'].str.contains('11I_C2')]\n",
    "\n",
    "df_IS=pd.concat([df_IS_heat,df_IS_power_c2])\n",
    "\n",
    "# This is the one isabelle did on Charlottes Fogo melt and fluid inclusion samples in June\n",
    "df_Fogo=pd.read_excel(r'C:\\Users\\penny\\Box\\Berkeley_new\\Raman\\Raman technical paper\\Laser_power_Series\\Heating_test_series\\Isabelles_Data\\Raman_session_June 25, 2025_fitted_2025-06-25_FOGO_MI_FI.xlsx', sheet_name='FI1_MI1')\n",
    "df_Fogo_MI=df_Fogo.loc[df_Fogo['filename'].str.contains('MI')]\n",
    "df_Fogo_FI=df_Fogo.loc[~(df_Fogo['filename'].str.contains('MI'))]\n",
    "df_Fogo_MI_power=df_Fogo_MI.loc[df_Fogo_MI['filename'].str.contains('mW')]\n",
    "df_Fogo_MI_heat=df_Fogo_MI.loc[~(df_Fogo_MI['filename'].str.contains('mW'))]\n",
    "df_Fogo_MI_heat['T (C)']=df_Fogo_MI_heat['filename'].apply(extract_temperature)\n",
    "df_Fogo_FI_power=df_Fogo_FI.loc[df_Fogo_FI['filename'].str.contains('mW')]\n",
    "df_Fogo_FI_heat=df_Fogo_FI.loc[~(df_Fogo_FI['filename'].str.contains('mW'))]\n",
    "df_Fogo_FI_heat['T (C)']=df_Fogo_FI_heat['filename'].apply(extract_temperature)\n",
    "\n",
    "df_Fogo2=pd.read_excel(r'C:\\Users\\penny\\Box\\Berkeley_new\\Raman\\Raman technical paper\\Laser_power_Series\\Heating_test_series\\Isabelles_Data\\Raman_session_June 25, 2025_fitted_2025-06-25_FOGO_MI_FI.xlsx', sheet_name='FI2_MI2')\n",
    "df_Fogo_MI2=df_Fogo2.loc[df_Fogo2['filename'].str.contains('MI')]\n",
    "df_Fogo_FI2=df_Fogo2.loc[~(df_Fogo2['filename'].str.contains('MI'))]\n",
    "df_Fogo_MI2_power=df_Fogo_MI2.loc[df_Fogo_MI2['filename'].str.contains('mW')]\n",
    "df_Fogo_MI2_heat=df_Fogo_MI2.loc[~(df_Fogo_MI2['filename'].str.contains('mW'))]\n",
    "df_Fogo_MI2_heat['T (C)']=df_Fogo_MI2_heat['filename'].apply(extract_temperature)\n",
    "df_Fogo_FI2_power=df_Fogo_FI2.loc[df_Fogo_FI2['filename'].str.contains('mW')]\n",
    "df_Fogo_FI2_heat=df_Fogo_FI2.loc[~(df_Fogo_FI2['filename'].str.contains('mW'))]\n",
    "df_Fogo_FI2_heat['T (C)']=df_Fogo_FI2_heat['filename'].apply(extract_temperature)\n",
    "\n",
    "#####################################################################################\n",
    "\n",
    "df_D=pd.read_excel(r'C:\\Users\\penny\\Box\\Berkeley_new\\Raman\\Raman technical paper\\Laser_power_Series\\Heating_test_series\\Charlotte_may2025\\heating_power_series_101\\Raman_session_June 3, 2025_fitted_2025-06-04.xlsx')\n",
    "df_D['T (C)']=df_D['filename'].apply(extract_temperature)\n",
    "df_D_FIB=df_D.loc[df_D['filename'].str.contains('101-B')]\n",
    "df_D_FIC=df_D.loc[df_D['filename'].str.contains('101-C')]\n",
    "# df_D_heat_FIB=df_D_FIB.loc[~(df_D_FIB['filename'].str.contains('mW'))]\n",
    "# df_101C_heat=df_D_FIC.loc[~(df_D_FIC['filename'].str.contains('mW'))]\n",
    "\n",
    "df_101B_power=df_D_FIB.loc[df_D_FIB['filename'].str.contains('mW')]\n",
    "df_101C_power=df_D_FIC.loc[df_D_FIC['filename'].str.contains('mW')]\n",
    "\n",
    "df_101B_heat=df_D_FIB.loc[~(df_D_FIB['filename'].str.contains('mW'))]\n",
    "df_101C_heat=df_D_FIC.loc[~(df_D_FIC['filename'].str.contains('mW'))]\n",
    "\n",
    "#####################################################################################\n",
    "df_I=pd.read_excel(r'C:\\Users\\penny\\Box\\Berkeley_new\\Raman\\Raman technical paper\\Laser_power_Series\\Heating_test_series\\Isabelles_Data\\Raman_session_June 2, 2025_fitted_2025-06-03.xlsx')\n",
    "df_I['T (C)']=df_I['filename'].apply(extract_temperature)\n",
    "\n",
    "B30 = df_I['filename'].str.contains('B30_c1')\n",
    "down = df_I['filename'].str.contains('down')\n",
    "B23 = df_I['filename'].str.contains('B23_c3') & ~(df_I['filename'].str.contains('lid'))\n",
    "B23_lid = df_I['filename'].str.contains('B23_c3') & df_I['filename'].str.contains('lid')\n",
    "power_c1 = df_I['filename'].str.contains('B30_c1') & df_I['filename'].str.contains('mW')\n",
    "power_c3 = df_I['filename'].str.contains('B23_c3') & df_I['filename'].str.contains('mW')\n",
    "heat_c1 = df_I['filename'].str.contains('B30_c1') & ~(df_I['filename'].str.contains('mW'))\n",
    "heat_c3 = df_I['filename'].str.contains('B23_c3') & ~(df_I['filename'].str.contains('mW'))\n",
    "\n",
    "\n",
    "################################################\n",
    "\n",
    "## Now lets do FG04-A13-1\n",
    "# This is the laser power series. \n",
    "df_a13_power=pd.read_excel(r'C:\\Users\\penny\\Box\\Berkeley_new\\Raman\\Raman technical paper\\Laser_power_Series\\Heating_Laser_Fogo\\MediumDensity\\Raman_session_November 3, 2023_fitted_2023-11-03.xlsx')\n",
    "df_a13_power=df_a13_power.loc[df_a13_power['Density g/cm3']>0.4]\n",
    "\n",
    "# The heating series is here. \n",
    "\n",
    "df_a13_heat=pd.read_excel(r'C:\\Users\\penny\\Box\\Berkeley_new\\Raman\\Raman technical paper\\Laser_power_Series\\Heating_Series_a13\\Raman_session_October 17, 2023_fitted_2023-10-18.xlsx')\n",
    "\n",
    "\n",
    "df_a13_heat['T (C)'] = df_a13_heat['filename'].apply(extract_temperature)\n",
    "\n",
    "df_a13_heat['filename'].iloc[0]\n",
    "\n",
    "## My power series is here, c6_FIM, c6_FIN, c5_A1_FIP, C16_FIR\n",
    "df_Samoa_Carb=pd.read_excel(r'C:\\Users\\penny\\Box\\Berkeley_new\\Raman\\Raman technical paper\\Laser_power_Series\\Samoa_carbonate_heating\\Raman_session_July 18, 2025_fitted_2025-07-24.xlsx')\n",
    "df_C6_FIM=df_Samoa_Carb.loc[df_Samoa_Carb['filename'].str.contains('c6_FIM')]\n",
    "\n",
    "\n",
    "df_C6_FIN=df_Samoa_Carb.loc[df_Samoa_Carb['filename'].str.contains('c6_FIN')]\n",
    "df_C5_A1_FIP=df_Samoa_Carb.loc[df_Samoa_Carb['filename'].str.contains('c5_A1_FIP') &df_Samoa_Carb['filename'].str.contains('away_from_Carb') ] \n",
    "df_C16_FIR=df_Samoa_Carb.loc[df_Samoa_Carb['filename'].str.contains('C16_FIR')]\n",
    "\n",
    "df_C6_FIM['Series_Name']='df_C6_FIM_power'\n",
    "df_C6_FIN['Series_Name']='df_C6_FIN_power'\n",
    "df_C5_A1_FIP['Series_Name']='df_C5_A1_FIP_power'\n",
    "df_C16_FIR['Series_Name']='df_C16_FIR_power'\n",
    "\n",
    "df_C6_FIM['Fo']=0.865296049\n",
    "df_C6_FIN['Fo']=0.865296049\n",
    "\n",
    "df_C5_A1_FIP['Fo']=0.863398795\n",
    "df_C16_FIR['Fo']=0.863503953\n"
   ]
  },
  {
   "cell_type": "code",
   "execution_count": 115,
   "id": "7ee7e3af",
   "metadata": {},
   "outputs": [
    {
     "data": {
      "text/plain": [
       "[<matplotlib.lines.Line2D at 0x1724daa9f70>]"
      ]
     },
     "execution_count": 115,
     "metadata": {},
     "output_type": "execute_result"
    },
    {
     "data": {
      "image/png": "[encoded data removed]",
      "text/plain": [
       "<Figure size 640x480 with 1 Axes>"
      ]
     },
     "metadata": {},
     "output_type": "display_data"
    }
   ],
   "source": [
    "plt.plot(df_C16_FIR['power (mW)'], df_C16_FIR['Density g/cm3'], '.r')"
   ]
  },
  {
   "cell_type": "code",
   "execution_count": 116,
   "id": "c9c401be",
   "metadata": {},
   "outputs": [
    {
     "data": {
      "text/plain": [
       "array(['DD11K_c6_FIM_5mW', 'DD11K_c6_FIM_15mW', 'DD11K_c6_FIM_30mW',\n",
       "       'DD11K_c6_FIM_45mW', 'DD11K_c6_FIM_25mW_down',\n",
       "       'DD11K_c6_FIM_10mW_down', 'DD11K_c6_FIM_5mW_down',\n",
       "       'DD11K_c6_FIM_49mW_down', 'DD11K_c6_FIN_5mW', 'DD11K_c6_FIN_15mW',\n",
       "       'DD11K_c6_FIN_30mW', 'DD11K_c6_FIN_45mW',\n",
       "       'DD11K_c6_FIN_25mW_down_', 'DD11K_c6_FIN_10mW_down_',\n",
       "       'DD11K_c6_FIN_5mW_down_', 'DD11K_c6_FIN_49mW_down_',\n",
       "       'DD1K_c5_A1_FIP_5mW', 'DD1K_c5_A1_FIP_15mW_cutearly_as_weak',\n",
       "       'DD1K_c5_A1_FIP_15mW', 'DD1K_c5_A1_FIP_30mW_away_from_Carb',\n",
       "       'DD1K_c5_A1_FIP_45mW_away_from_Carb',\n",
       "       'DD1K_c5_A1_FIP_25mW_down_away_from_Carb',\n",
       "       'DD1K_c5_A1_FIP_10mW_down_away_from_Carb',\n",
       "       'DD1K_c5_A1_FIP_5mW_down_away_from_Carb',\n",
       "       'DD1K_c5_A1_FIP_15mW_away_from_Carb',\n",
       "       'DD1K_c5_A1_FIP_5mW_away_from_Carb',\n",
       "       'DD1K_c5_A1_FIP_49mW_away_from_Carb', 'DD11K_C16_FIH',\n",
       "       'DD11K_C16_FIJ', 'DD11K_C16_FIL', 'DD11K_C16_FIM_50X',\n",
       "       'DD11K_C16_FIO', 'DD11K_C16_FIP', 'DD11K_C16_FIQ', 'DD11K_C16_FIR',\n",
       "       'DD11K_C16_FIR_5mW', 'DD11K_C16_FIR_15mW', 'DD11K_C16_FIR_30mW',\n",
       "       'DD11K_C16_FIR_45mW', 'DD11K_C16_FIR_25mW_down',\n",
       "       'DD11K_C16_FIR_10mW_down', 'DD11K_C16_FIR_5mW_down',\n",
       "       'DD11K_C16_FIR_49mW_down'], dtype=object)"
      ]
     },
     "execution_count": 116,
     "metadata": {},
     "output_type": "execute_result"
    }
   ],
   "source": [
    "df_Samoa_Carb['filename'].unique()"
   ]
  },
  {
   "cell_type": "markdown",
   "id": "18369807",
   "metadata": {},
   "source": [
    "## Making one dataframe for all the power series"
   ]
  },
  {
   "cell_type": "code",
   "execution_count": 117,
   "id": "2b6a5f1f",
   "metadata": {},
   "outputs": [],
   "source": [
    "B23_c3_power=df_I.loc[power_c3]\n",
    "B30_c1_power=df_I.loc[power_c1]\n",
    "\n",
    "dfs = [\n",
    "    B30_c1_power.copy(),\n",
    "    B23_c3_power.copy(),\n",
    "    df_IS_power_c2.copy(),\n",
    "    df_a13_power.copy(),\n",
    "    df_101B_power.copy(),\n",
    "    df_101C_power.copy(),\n",
    "    df_Fogo_FI_power.copy(),\n",
    "    df_Fogo_MI_power.copy(),\n",
    "    df_Fogo_FI2_power.copy(),\n",
    "    df_Fogo_MI2_power.copy(),\n",
    "\n",
    "\n",
    "]\n",
    "\n",
    "labels_power = [\n",
    "    'B30_c1_power',\n",
    "    'B23_c3_power',\n",
    "    '11i_c2_power',\n",
    "    'FG04-13-1_power',\n",
    "    '101B_power',\n",
    "    '101C_power',\n",
    "    'FG04-A3_FI1_power',\n",
    "    'FG04-A3_MI1_power',\n",
    "    'FG04-A3_FI2_power',\n",
    "    'FG04-A3_MI2_power',\n",
    "    'FG04-A3_MI2_power',\n",
    "\n",
    "    \n",
    "]\n",
    "\n",
    "# Add Series_Name column and concatenate\n",
    "for df, label in zip(dfs, labels_power):\n",
    "    df['Series_Name'] = label\n",
    "    \n",
    "\n",
    "\n",
    "# Combine all into one big DataFrame\n",
    "merged_power_df = pd.concat(dfs, ignore_index=True)\n",
    "merged_power_df.insert(0, 'Series_Type', 'power')\n",
    "\n"
   ]
  },
  {
   "cell_type": "code",
   "execution_count": null,
   "id": "2ba98154",
   "metadata": {},
   "outputs": [],
   "source": []
  },
  {
   "cell_type": "markdown",
   "id": "8fb2c551",
   "metadata": {},
   "source": [
    "## Making one dataframe for all the heating series"
   ]
  },
  {
   "cell_type": "code",
   "execution_count": 118,
   "id": "e044c282",
   "metadata": {},
   "outputs": [],
   "source": [
    "B23_c3_heat=df_I.loc[heat_c3]\n",
    "B30_c1_heat=df_I.loc[heat_c1]\n",
    "\n",
    "dfs = [\n",
    "    B30_c1_heat.copy(),\n",
    "    B23_c3_heat.copy(),\n",
    "    df_IS_heat_c2.copy(),\n",
    "    df_a13_heat.copy(),\n",
    "    df_101B_heat.copy(),\n",
    "    df_101C_heat.copy(),\n",
    "    df_Fogo_FI_heat.copy(),\n",
    "    df_Fogo_MI_heat.copy(),\n",
    "    df_Fogo_FI2_heat.copy(),\n",
    "    df_Fogo_MI2_heat.copy(),\n",
    "]\n",
    "\n",
    "labels_heat = [\n",
    "    'B30_c1_heat',\n",
    "    'B23_c3_heat',\n",
    "    '11i_c2_heat',\n",
    "    'FG04-13-1_heat',\n",
    "    '101B_heat',\n",
    "    '101C_heat',\n",
    "    'FG04-A3_FI1_heat',\n",
    "    'FG04-A3_MI1_heat',\n",
    "    'FG04-A3_FI2_heat',\n",
    "    'FG04-A3_MI2_heat',\n",
    "    \n",
    "]\n",
    "\n",
    "# Add Series_Name column and concatenate\n",
    "for df, label in zip(dfs, labels_heat):\n",
    "    df['Series_Name'] = label\n",
    "\n",
    "\n",
    "# Combine all into one big DataFrame\n",
    "merged_heat_df = pd.concat(dfs, ignore_index=True)\n",
    "merged_heat_df.insert(0, 'Series_Type', 'heat')"
   ]
  },
  {
   "cell_type": "code",
   "execution_count": 119,
   "id": "0f6ff033",
   "metadata": {},
   "outputs": [],
   "source": [
    "merged_heat_df.to_clipboard(excel=True)"
   ]
  },
  {
   "cell_type": "code",
   "execution_count": 120,
   "id": "ccc95eb0",
   "metadata": {},
   "outputs": [
    {
     "data": {
      "text/plain": [
       "143"
      ]
     },
     "execution_count": 120,
     "metadata": {},
     "output_type": "execute_result"
    }
   ],
   "source": [
    "len(merged_power_df)"
   ]
  },
  {
   "cell_type": "markdown",
   "id": "1a40b6e0",
   "metadata": {},
   "source": [
    "## Lets make a sheet for all the other power series that we have"
   ]
  },
  {
   "cell_type": "code",
   "execution_count": 121,
   "id": "5a7e72c7",
   "metadata": {},
   "outputs": [],
   "source": [
    "## ALEX\n",
    "df_March21=pd.read_excel(r'C:\\Users\\penny\\Box\\Berkeley_new\\Raman\\Raman technical paper\\Laser_power_Series\\Alex_runs\\PowerSeriesML77_Raman_session_March-21-2024_fitted_2024-04-01.xlsx')\n",
    "df_March21['Series_Name']='ML22_77_power'\n",
    "df_March21['Type']='Mauna Loa MI'\n",
    "\n",
    "## Alex\n",
    "df_March21_2=pd.read_excel(r'C:\\Users\\penny\\Box\\Berkeley_new\\Raman\\Raman technical paper\\Laser_power_Series\\Alex_runs\\PowerSeriesMP2_204_Raman_session_March-21-2024_fitted_2024-04-01.xlsx')\n",
    "df_March21_2['Series_Name']='MP2_204_power'\n",
    "df_March21_2['Type']='Mauna Loa MI'\n",
    "# Alex\n",
    "df_March27=pd.read_excel(r'C:\\Users\\penny\\Box\\Berkeley_new\\Raman\\Raman technical paper\\Laser_power_Series\\Alex_runs\\Raman_session_March-27-2024_fitted_2024-04-01.xlsx')\n",
    "df_March27['Series_Name']='ML22_77_4_MIA_power'\n",
    "df_March27['Type']='Mauna Loa MI'\n",
    "# Charlottes ones\n",
    "df_CF=pd.read_excel(r'C:\\Users\\penny\\Box\\Berkeley_new\\Raman\\Raman technical paper\\Laser_power_Series\\powerseries\\Raman_session_November 7, 2023_fitted_2023-11-08.xlsx')\n",
    "df_CF_9=df_CF.loc[df_CF['filename'].str.contains('FG04-A11-9')].copy()\n",
    "df_CF_9['Type']='Fogo FI'\n",
    "df_CF_9['Series_Name']='FG04-A11-9_power'\n",
    "df_CF_16=df_CF.loc[df_CF['filename'].str.contains('FG04-A11-16')].copy()\n",
    "df_CF_16['Series_Name']='FG04-A11-16_power'\n",
    "df_CF_16['Type']='Fogo FI'\n",
    "\n",
    "df_CF_4=df_CF.loc[(df_CF['filename'].str.contains('FG04-A11-4'))&~(df_CF['filename'].str.contains('FG04-A11-4-4mW-5')) &~(df_CF['filename'].str.contains('FG04-A11-4-16mW-2')) ].copy()\n",
    "df_CF_4['Series_Name']='FG04-A11-4_power'\n",
    "df_CF_4['Type']='Fogo FI'\n",
    "\n",
    "# More charlotte\n",
    "df_101_Nov6=pd.read_excel(r'C:\\Users\\penny\\Box\\Berkeley_new\\Raman\\Raman technical paper\\Laser_power_Series\\Heating_Laser_Fogo\\HigherDensity\\Raman_session_November 6, 2023_fitted_2023-11-06.xlsx')\n",
    "df_101_Nov6['Series_Name']='FG19_101_FIB_power'\n",
    "df_101_Nov6['Type']='Fogo FI'\n",
    "\n",
    "##\n",
    "df_Fo1=pd.read_excel(r'C:\\Users\\penny\\Box\\Berkeley_new\\Raman\\Raman technical paper\\Laser_power_Series\\Heating_Laser_Fogo\\Fo1_laserpower\\Raman_session_November 6, 2023_fitted_2023-11-08.xlsx')\n",
    "df_Fo1['Series_Name']='Fo1_power'\n",
    "df_Fo1['Type']='Cascade MI'\n",
    "\n",
    "##\n",
    "df_A13=pd.read_excel(r'C:\\Users\\penny\\Box\\Berkeley_new\\Raman\\Raman technical paper\\Laser_power_Series\\Heating_Laser_Fogo\\MediumDensity\\Raman_session_November 3, 2023_fitted_2023-11-03.xlsx')\n",
    "df_A13['Series_Name']='FG04_A13_12_power'\n",
    "df_A13['Type']='Fogo FI'\n",
    "\n",
    "## PYroxene series\n",
    "df_MP=pd.read_excel(r'C:\\Users\\penny\\Box\\Berkeley_new\\Raman\\Raman technical paper\\Laser_power_Series\\P3_pyroxene_heating\\Raman_session_February 6, 2024_fitted_2024-02-06.xlsx')\n",
    "df_MP=df_MP.loc[df_MP['filename'].str.contains('p3_FI4')]\n",
    "df_MP['Series_Name']='p3_FI4'\n",
    "df_MP['Type']='Galapagos FI'\n",
    "\n",
    "## Icelandic ones\n",
    "df_Ap24=pd.read_excel(r'C:\\Users\\penny\\Box\\Berkeley_new\\Raman\\Raman technical paper\\Laser_power_Series\\Laser_heating_Iceland_April2025\\PennyTests\\Raman_session_April 24, 2025_fitted_2025-05-19.xlsx')\n",
    "\n",
    "df_B22_1=df_Ap24.loc[df_Ap24['filename'].str.contains('B22_1_FIA')].copy()\n",
    "df_B22_1['Type']='Icelandic FI'\n",
    "df_B22_1['Series_Name']='B22_1'\n",
    "df_B22_1['Fo']=0.739881757\n",
    "\n",
    "df_B31_c8=df_Ap24.loc[df_Ap24['filename'].str.contains('B31_c8')].copy()\n",
    "df_B31_c8['Type']='Icelandic FI'\n",
    "df_B31_c8['Series_Name']='B31_c8'\n",
    "df_B31_c8['Fo']=0.841028844\n",
    "\n",
    "df_B27_c4=df_Ap24.loc[df_Ap24['filename'].str.contains('B27_c4')].copy()\n",
    "df_B27_c4['Type']='Icelandic FI'\n",
    "df_B27_c4['Series_Name']='B27_c4'\n",
    "df_B27_c4['Fo']=0.843988556\n",
    "\n",
    "df_B27_c19=df_Ap24.loc[df_Ap24['filename'].str.contains('B27_c19')].copy()\n",
    "df_B27_c19['Type']='Icelandic FI'\n",
    "df_B27_c19['Series_Name']='B27_c19'\n",
    "df_B27_c19['Fo']=0.75477171\n",
    "\n",
    "## Isabelles ones\n",
    "df_May23=pd.read_excel(r'C:\\Users\\penny\\Box\\Berkeley_new\\Raman\\Raman technical paper\\Laser_power_Series\\Laser_heating_Iceland_April2025\\Isabelle_Tests\\heatingtest1\\Raman_session_May 23, 2025_fitted_2025-05-26.xlsx')\n",
    "\n",
    "df_B31_c11=df_May23.loc[df_May23['filename'].str.contains('B31_c11')].copy()\n",
    "df_B31_c11['Type']='Icelandic FI'\n",
    "df_B31_c11['Series_Name']='B31_c11'\n",
    "df_B31_c11['Fo']=0.760986133\n",
    "\n",
    "df_B31_c7=df_May23.loc[df_May23['filename'].str.contains('B31_c7')].copy()\n",
    "df_B31_c7['Type']='Icelandic FI'\n",
    "df_B31_c7['Series_Name']='B31_c7'\n",
    "df_B31_c7['Fo']=0.776073432\n",
    "\n",
    "## More isabelle ones\n",
    "\n",
    "df_May27=pd.read_excel(r'C:\\Users\\penny\\Box\\Berkeley_new\\Raman\\Raman technical paper\\Laser_power_Series\\Laser_heating_Iceland_April2025\\Isabelle_Tests\\heatingtest2\\Raman_session_May 27, 2025_fitted_2025-05-28.xlsx')\n",
    "\n",
    "df_B23_1_A=df_May27.loc[df_May27['filename'].str.contains('B23_1_FIA')].copy()\n",
    "df_B23_1_A['Type']='Icelandic FI'\n",
    "df_B23_1_A['Series_Name']='B23_1_A'\n",
    "df_B23_1_A['Fo']=0.820743717\n",
    "\n",
    "df_B23_1_C=df_May27.loc[df_May27['filename'].str.contains('B23_1_FIC')].copy()\n",
    "df_B23_1_C['Type']='Icelandic FI'\n",
    "df_B23_1_C['Series_Name']='B23_1_C'\n",
    "df_B23_1_C['Fo']=0.820743717\n",
    "\n",
    "df_B31_c6=df_May27.loc[df_May27['filename'].str.contains('B31_c6')].copy()\n",
    "df_B31_c6['Type']='Icelandic FI'\n",
    "df_B31_c6['Series_Name']='B31_c6'\n",
    "df_B31_c6['Fo']=0.750965078\n",
    "\n",
    "## More isabelle ones\n",
    "\n",
    "df_June25=pd.read_excel(r'C:\\Users\\penny\\Box\\Berkeley_new\\Raman\\Raman technical paper\\Laser_power_Series\\Heating_test_series\\Isabelles_Data\\Raman_session_June 4, 2025_fitted_2025-06-04.xlsx')\n",
    "\n",
    "df_B26_c11_FIX=df_June25.loc[df_June25['filename'].str.contains('B26_c11_FIX')].copy()\n",
    "df_B26_c11_FIX['Type']='Icelandic FI'\n",
    "df_B26_c11_FIX['Series_Name']='B31_c6_FIX'\n",
    "df_B26_c11_FIX['Fo']=0.779070861\n",
    "\n",
    "df_B26_c11_FIZ=df_June25.loc[df_June25['filename'].str.contains('B26_c11_FIZ')].copy()\n",
    "df_B26_c11_FIZ['Type']='Icelandic FI'\n",
    "df_B26_c11_FIZ['Series_Name']='B31_c6_FIZ'\n",
    "df_B26_c11_FIZ['Fo']=0.779070861\n",
    "# More isabelle \n",
    "df_10June=pd.read_excel(r'C:\\Users\\penny\\Box\\Berkeley_new\\Raman\\Raman technical paper\\Laser_power_Series\\Laser_heating_Iceland_April2025\\Isabelle_Tests\\Raman_session_June 10, 2025_fitted_2025-06-10_all.xlsx')\n",
    "\n",
    "df_B23_1_FIC=df_10June.loc[df_10June['filename'].str.contains('B23_1_FIC')].copy()\n",
    "df_B23_1_FIC['Type']='Icelandic FI'\n",
    "df_B23_1_FIC['Series_Name']='B23_1_FIC'\n",
    "df_B23_1_FIC['Fo']=0.820743717\n",
    "\n",
    "\n",
    "df_B26_c8_a3_FIZ=df_10June.loc[df_10June['filename'].str.contains('B26_c8_a3_FIZ')].copy()\n",
    "df_B26_c8_a3_FIZ['Type']='Icelandic FI'\n",
    "df_B26_c8_a3_FIZ['Series_Name']='B26_c8_a3_FIZ'\n",
    "df_B26_c8_a3_FIZ['Fo']=0.752845605\n",
    "\n",
    "\n",
    "\n",
    "df_B26_c8_a3_FIX=df_10June.loc[df_10June['filename'].str.contains('B26_c8_a3_FIX')].copy()\n",
    "df_B26_c8_a3_FIX['Type']='Icelandic FI'\n",
    "df_B26_c8_a3_FIX['Series_Name']='B26_c8_a3_FIX'\n",
    "df_B26_c8_a3_FIX['Fo']=0.752845605\n",
    "\n",
    "df_B27_17=df_10June.loc[df_10June['filename'].str.contains('B27_17')].copy()\n",
    "df_B27_17['Type']='Icelandic FI'\n",
    "df_B27_17['Series_Name']='B27_17'\n",
    "df_B27_17['Fo']=0.818043881\n",
    "\n",
    "\n",
    "df_B31_c4=df_10June.loc[df_10June['filename'].str.contains('B31_c4')].copy()\n",
    "df_B31_c4['Type']='Icelandic FI'\n",
    "df_B31_c4['Series_Name']='B31_c4'\n",
    "df_B31_c4['Fo']=0.796430578505229\n"
   ]
  },
  {
   "cell_type": "code",
   "execution_count": 122,
   "id": "c6ab2e77",
   "metadata": {},
   "outputs": [],
   "source": [
    "dfs = [\n",
    "    df_March21, df_March21_2, df_March27, df_CF_9, df_CF_16, df_CF_4,\n",
    "    df_101_Nov6, df_Fo1, df_A13, df_MP, df_B22_1, df_B31_c8,\n",
    "    df_B27_c4, df_B27_c19, df_B31_c11, df_B31_c7, df_B23_1_A,\n",
    "    df_B23_1_FIC, df_B31_c6, df_B26_c11_FIX, df_B26_c11_FIZ,\n",
    "    df_B27_17, df_B26_c8_a3_FIZ, df_B26_c8_a3_FIX, df_B31_c4,   df_C6_FIM,   df_C6_FIN,   df_C5_A1_FIP, df_C16_FIR\n",
    "\n",
    "    \n",
    "]\n",
    "\n",
    "\n",
    "# Remove duplicates based on object identity (memory location)\n",
    "dfs_unique = []\n",
    "seen_ids = set()\n",
    "\n",
    "for df in dfs:\n",
    "    df_id = id(df)\n",
    "    if df_id not in seen_ids:\n",
    "        dfs_unique.append(df)\n",
    "        seen_ids.add(df_id)\n",
    "\n",
    "# Now combine\n",
    "combined_df2 = pd.concat(dfs_unique, ignore_index=True)\n"
   ]
  },
  {
   "cell_type": "markdown",
   "id": "d81c0be2",
   "metadata": {},
   "source": [
    "## Polishing series "
   ]
  },
  {
   "cell_type": "code",
   "execution_count": 123,
   "id": "af197807",
   "metadata": {},
   "outputs": [],
   "source": [
    "# My polishing series shown in the main text\n",
    "df_polish_PW=pd.read_excel(r'C:\\Users\\penny\\Box\\Berkeley_new\\Raman\\Raman technical paper\\Sectioning_tests\\PennyFlipSeries\\Raman_session_July 16, 2025_fitted_2025-07-16.xlsx')\n",
    "df_polish_PW['Depth'] = df_polish_PW['filename'].str.extract(r'_(\\d+)um')[0].astype(int)*1.7"
   ]
  },
  {
   "cell_type": "code",
   "execution_count": 124,
   "id": "8fd15840",
   "metadata": {},
   "outputs": [],
   "source": [
    "df1=pd.read_excel(r'C:\\Users\\penny\\Box\\Berkeley_new\\Raman\\Raman technical paper\\Sectioning_tests\\Charlottes_Flip_Series\\Series_06242025\\Raman_session_June 24, 2025_fitted_2025-06-30.xlsx')\n",
    "df2=pd.read_excel(r'C:\\Users\\penny\\Box\\Berkeley_new\\Raman\\Raman technical paper\\Sectioning_tests\\Charlottes_Flip_Series\\DayBefore\\Raman_session_June 23, 2025_fitted_2025-06-30.xlsx')\n",
    "df_polish_CD=pd.concat([df1, df2], ignore_index=True)\n",
    "df_polish_CD['Depth'] = df_polish_CD['filename'].str.extract(r'([0-9.]+)um')[0].astype(float)*1.7"
   ]
  },
  {
   "cell_type": "code",
   "execution_count": 125,
   "id": "7f3d1312",
   "metadata": {},
   "outputs": [],
   "source": [
    "## Now lets merge these\n",
    "pd_concat_polish=pd.concat([df_polish_CD, df_polish_PW], axis=0)"
   ]
  },
  {
   "cell_type": "markdown",
   "id": "68d0dd07",
   "metadata": {},
   "source": [
    "## Loading in the Ne polynomial data"
   ]
  },
  {
   "cell_type": "code",
   "execution_count": 126,
   "id": "b95fe9e8",
   "metadata": {},
   "outputs": [],
   "source": [
    "read_combined = pd.read_excel(r'C:\\Users\\penny\\Box\\Berkeley_new\\Raman\\Raman technical paper\\Example1c_Bakker_Ne_Method\\combined_Neon_data.xlsx', sheet_name=None)\n",
    "NeonPoly_df2 = read_combined['Neon_Fits']\n",
    "NeonPoly_ideal = read_combined['Ideal_Splits']"
   ]
  },
  {
   "cell_type": "markdown",
   "id": "7b24183e",
   "metadata": {},
   "source": [
    "## Load in the data to show the change in Ne lines"
   ]
  },
  {
   "cell_type": "code",
   "execution_count": 127,
   "id": "baa824bc",
   "metadata": {},
   "outputs": [],
   "source": [
    "df_combo_sec_phase=pd.read_excel(r'C:\\Users\\penny\\Box\\Berkeley_new\\Raman\\Raman technical paper\\Charlottes_Tm_data_diffNeLines\\Cali_data_devitre.xlsx')\n",
    "df_Tm=pd.read_excel(r'C:\\Users\\penny\\Box\\Berkeley_new\\Raman\\Raman technical paper\\Charlottes_Tm_data_diffNeLines\\Microtherm_May30.xlsx')"
   ]
  },
  {
   "cell_type": "markdown",
   "id": "3d5efe41",
   "metadata": {},
   "source": [
    "## Data for changing spectral center"
   ]
  },
  {
   "cell_type": "code",
   "execution_count": 128,
   "id": "ad497bc1",
   "metadata": {},
   "outputs": [],
   "source": [
    "df_spectral_center=pd.read_excel(r'C:\\Users\\penny\\Box\\Berkeley_new\\Raman\\Raman technical paper\\Spectral center sensitivity\\changing_spectral_center.xlsx')"
   ]
  },
  {
   "cell_type": "markdown",
   "id": "42894885",
   "metadata": {},
   "source": [
    "## Read in different non linearities"
   ]
  },
  {
   "cell_type": "code",
   "execution_count": 129,
   "id": "9e6f3b04",
   "metadata": {},
   "outputs": [],
   "source": [
    "combined_peaks=pd.read_excel(r'C:\\Users\\penny\\Box\\Berkeley_new\\Raman\\Raman technical paper\\Examples_of_non_linearity\\combined_correction_data.xlsx', \n",
    "                             sheet_name='corr_peaks_all')\n",
    "combined_factors=pd.read_excel(r'C:\\Users\\penny\\Box\\Berkeley_new\\Raman\\Raman technical paper\\Examples_of_non_linearity\\combined_correction_data.xlsx', \n",
    "                             sheet_name='corr_factors_all')"
   ]
  },
  {
   "cell_type": "markdown",
   "id": "7e0052a0",
   "metadata": {},
   "source": [
    "## Standard analyses"
   ]
  },
  {
   "cell_type": "code",
   "execution_count": 130,
   "id": "7041193a",
   "metadata": {},
   "outputs": [],
   "source": [
    "df_standards= pd.read_excel(r'C:\\Users\\penny\\Box\\Berkeley_new\\Raman\\Raman technical paper\\Standard_Tracking\\FI standard tracking.xlsx', sheet_name='All')"
   ]
  },
  {
   "cell_type": "markdown",
   "id": "47c0e44e",
   "metadata": {},
   "source": [
    "## Microthermometry analysis of standards"
   ]
  },
  {
   "cell_type": "code",
   "execution_count": 131,
   "id": "0be9b04b",
   "metadata": {},
   "outputs": [],
   "source": [
    "df_Tm=pd.read_excel(r'C:\\Users\\penny\\Box\\Berkeley_new\\Raman\\FI_Standards\\Micotherm_March2025\\Microthermo_results_March2025.xlsx', sheet_name='Corr_results')"
   ]
  },
  {
   "cell_type": "markdown",
   "id": "c4bb8ea3",
   "metadata": {},
   "source": [
    "## Temperature test day"
   ]
  },
  {
   "cell_type": "code",
   "execution_count": 132,
   "id": "7b7a070f",
   "metadata": {},
   "outputs": [],
   "source": [
    "\n",
    "df_Raman_all=pd.read_excel(r'C:\\Users\\penny\\Box\\Berkeley_new\\Raman\\Raman technical paper\\Temp_Tests_Apr2025\\RoomT_Test_Charlotte_TagTeam\\Raman_session_May 30, 2025_fitted_2025-06-02.xlsx')\n",
    "df_Temp=df_Raman_all.loc[~(df_Raman_all['filename'].str.contains('drift'))]"
   ]
  },
  {
   "cell_type": "markdown",
   "id": "a2b83594",
   "metadata": {},
   "source": [
    "## Bakker shifting data"
   ]
  },
  {
   "cell_type": "code",
   "execution_count": 133,
   "id": "62372cb6",
   "metadata": {},
   "outputs": [],
   "source": [
    "df_bakker=pd.read_excel(r'C:\\Users\\penny\\Box\\Berkeley_new\\Raman\\Raman technical paper\\Improving Precision\\Bakker_2021_data\\Spectra_CO2_LabRamHR_600\\Bakker_026_spectral_res.xlsx')"
   ]
  },
  {
   "cell_type": "markdown",
   "id": "158bdb1d",
   "metadata": {},
   "source": [
    "## Loading in different peak fits"
   ]
  },
  {
   "cell_type": "code",
   "execution_count": 134,
   "id": "92553852",
   "metadata": {},
   "outputs": [],
   "source": [
    "df_fits=pd.read_excel(r'C:\\Users\\penny\\Box\\Berkeley_new\\Raman\\Raman technical paper\\Different_PDF_Functions\\combined_fit_data.xlsx')"
   ]
  },
  {
   "cell_type": "markdown",
   "id": "751d951a",
   "metadata": {},
   "source": [
    "## Published Microthermometry Data from DeVitre and Wieser (2023)"
   ]
  },
  {
   "cell_type": "code",
   "execution_count": 135,
   "id": "06e5bce9",
   "metadata": {},
   "outputs": [],
   "source": [
    "df_Fogo_DW23=pd.read_excel(r'C:\\Users\\penny\\Box\\Berkeley_new\\Raman\\Raman technical paper\\Charlottes_Tm_data_diffNeLines\\DeVitre_TM_Comparison.xlsx')\n",
    "df_Kil_DW23=pd.read_excel(r'C:\\Users\\penny\\Box\\Berkeley_new\\Raman\\Raman technical paper\\Charlottes_Tm_data_diffNeLines\\DeVitre_TM_Comparison.xlsx', sheet_name='Kil')\n"
   ]
  },
  {
   "cell_type": "code",
   "execution_count": 136,
   "id": "4d8d4dbe",
   "metadata": {},
   "outputs": [],
   "source": [
    "import pandas as pd\n",
    "\n",
    "# Combine the two DataFrames\n",
    "combined_df = pd.concat([merged_power_df, merged_heat_df], ignore_index=True)\n",
    "\n",
    "# Set the Excel file name\n",
    "excel_file = r'C:\\Users\\penny\\Box\\Berkeley_new\\Raman\\Raman technical paper\\Supporting_Info\\Supporting_information_Draft1.xlsx'\n",
    "\n",
    "\n",
    "\n",
    "# Write to the first sheet\n",
    "with pd.ExcelWriter(excel_file, engine='openpyxl', mode='w') as writer:\n",
    "    combined_df.to_excel(writer, sheet_name='Combined_power_heating_series', index=False)\n",
    "    combined_df2.to_excel(writer, sheet_name='power_series', index=False)\n",
    "    pd_concat_polish.to_excel(writer, sheet_name='polish_series', index=False)\n",
    "    NeonPoly_df2.to_excel(writer, sheet_name='Polynomial_Neons', index=False)\n",
    "    NeonPoly_ideal.to_excel(writer, sheet_name='Ideal_Ne_corr_factors', index=False)\n",
    "    df_combo_sec_phase.to_excel(writer, sheet_name='Fogo_FI_data', index=False)\n",
    "    df_Tm.to_excel(writer, sheet_name='Fogo_FI_Microtherm_data', index=False)\n",
    "    df_spectral_center.to_excel(writer, sheet_name='Changing_spectral_center', index=False)\n",
    "    combined_peaks.to_excel(writer, sheet_name='Ne_peak_positions_diffLabs', index=False)\n",
    "    combined_factors.to_excel(writer, sheet_name='Ne_corr_factor_diffLabs', index=False)\n",
    "    df_standards.to_excel(writer, sheet_name='Standard_repeatability', index=False)\n",
    "    df_Tm.to_excel(writer, sheet_name='Standards_microthermometry', index=False)\n",
    "    df_Temp.to_excel(writer, sheet_name='Room_temp_drift', index=False)\n",
    "    df_bakker.to_excel(writer, sheet_name='Bakker_drift_with_spectrometer', index=False)\n",
    "    df_fits.to_excel(writer, sheet_name='Different_Peak_Fits', index=False)\n",
    "    df_Fogo_DW23.to_excel(writer, sheet_name='Fogo_Tm_Raman_DW2023', index=False)\n",
    "    df_Kil_DW23.to_excel(writer, sheet_name='Kil_Raman_DW2023', index=False)\n",
    "\n",
    "\n",
    "    \n"
   ]
  },
  {
   "cell_type": "code",
   "execution_count": null,
   "id": "15484ca2",
   "metadata": {},
   "outputs": [],
   "source": []
  }
 ],
 "metadata": {
  "kernelspec": {
   "display_name": "base",
   "language": "python",
   "name": "python3"
  },
  "language_info": {
   "codemirror_mode": {
    "name": "ipython",
    "version": 3
   },
   "file_extension": ".py",
   "mimetype": "text/x-python",
   "name": "python",
   "nbconvert_exporter": "python",
   "pygments_lexer": "ipython3",
   "version": "3.12.3"
  }
 },
 "nbformat": 4,
 "nbformat_minor": 5
}
